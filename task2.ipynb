{
 "cells": [
  {
   "cell_type": "code",
   "execution_count": 1,
   "metadata": {
    "collapsed": false
   },
   "outputs": [
    {
     "name": "stdout",
     "output_type": "stream",
     "text": [
      "Populating the interactive namespace from numpy and matplotlib\n"
     ]
    }
   ],
   "source": [
    "import numpy as np\n",
    "from matplotlib import pyplot as plt\n",
    "from sklearn import model_selection, datasets, naive_bayes\n",
    "\n",
    "%pylab inline"
   ]
  },
  {
   "cell_type": "code",
   "execution_count": 7,
   "metadata": {
    "collapsed": false
   },
   "outputs": [
    {
     "data": {
      "text/plain": [
       "{'DESCR': \"Optical Recognition of Handwritten Digits Data Set\\n===================================================\\n\\nNotes\\n-----\\nData Set Characteristics:\\n    :Number of Instances: 5620\\n    :Number of Attributes: 64\\n    :Attribute Information: 8x8 image of integer pixels in the range 0..16.\\n    :Missing Attribute Values: None\\n    :Creator: E. Alpaydin (alpaydin '@' boun.edu.tr)\\n    :Date: July; 1998\\n\\nThis is a copy of the test set of the UCI ML hand-written digits datasets\\nhttp://archive.ics.uci.edu/ml/datasets/Optical+Recognition+of+Handwritten+Digits\\n\\nThe data set contains images of hand-written digits: 10 classes where\\neach class refers to a digit.\\n\\nPreprocessing programs made available by NIST were used to extract\\nnormalized bitmaps of handwritten digits from a preprinted form. From a\\ntotal of 43 people, 30 contributed to the training set and different 13\\nto the test set. 32x32 bitmaps are divided into nonoverlapping blocks of\\n4x4 and the number of on pixels are counted in each block. This generates\\nan input matrix of 8x8 where each element is an integer in the range\\n0..16. This reduces dimensionality and gives invariance to small\\ndistortions.\\n\\nFor info on NIST preprocessing routines, see M. D. Garris, J. L. Blue, G.\\nT. Candela, D. L. Dimmick, J. Geist, P. J. Grother, S. A. Janet, and C.\\nL. Wilson, NIST Form-Based Handprint Recognition System, NISTIR 5469,\\n1994.\\n\\nReferences\\n----------\\n  - C. Kaynak (1995) Methods of Combining Multiple Classifiers and Their\\n    Applications to Handwritten Digit Recognition, MSc Thesis, Institute of\\n    Graduate Studies in Science and Engineering, Bogazici University.\\n  - E. Alpaydin, C. Kaynak (1998) Cascading Classifiers, Kybernetika.\\n  - Ken Tang and Ponnuthurai N. Suganthan and Xi Yao and A. Kai Qin.\\n    Linear dimensionalityreduction using relevance weighted LDA. School of\\n    Electrical and Electronic Engineering Nanyang Technological University.\\n    2005.\\n  - Claudio Gentile. A New Approximate Maximal Margin Classification\\n    Algorithm. NIPS. 2000.\\n\",\n",
       " 'data': array([[  0.,   0.,   5., ...,   0.,   0.,   0.],\n",
       "        [  0.,   0.,   0., ...,  10.,   0.,   0.],\n",
       "        [  0.,   0.,   0., ...,  16.,   9.,   0.],\n",
       "        ..., \n",
       "        [  0.,   0.,   1., ...,   6.,   0.,   0.],\n",
       "        [  0.,   0.,   2., ...,  12.,   0.,   0.],\n",
       "        [  0.,   0.,  10., ...,  12.,   1.,   0.]]),\n",
       " 'images': array([[[  0.,   0.,   5., ...,   1.,   0.,   0.],\n",
       "         [  0.,   0.,  13., ...,  15.,   5.,   0.],\n",
       "         [  0.,   3.,  15., ...,  11.,   8.,   0.],\n",
       "         ..., \n",
       "         [  0.,   4.,  11., ...,  12.,   7.,   0.],\n",
       "         [  0.,   2.,  14., ...,  12.,   0.,   0.],\n",
       "         [  0.,   0.,   6., ...,   0.,   0.,   0.]],\n",
       " \n",
       "        [[  0.,   0.,   0., ...,   5.,   0.,   0.],\n",
       "         [  0.,   0.,   0., ...,   9.,   0.,   0.],\n",
       "         [  0.,   0.,   3., ...,   6.,   0.,   0.],\n",
       "         ..., \n",
       "         [  0.,   0.,   1., ...,   6.,   0.,   0.],\n",
       "         [  0.,   0.,   1., ...,   6.,   0.,   0.],\n",
       "         [  0.,   0.,   0., ...,  10.,   0.,   0.]],\n",
       " \n",
       "        [[  0.,   0.,   0., ...,  12.,   0.,   0.],\n",
       "         [  0.,   0.,   3., ...,  14.,   0.,   0.],\n",
       "         [  0.,   0.,   8., ...,  16.,   0.,   0.],\n",
       "         ..., \n",
       "         [  0.,   9.,  16., ...,   0.,   0.,   0.],\n",
       "         [  0.,   3.,  13., ...,  11.,   5.,   0.],\n",
       "         [  0.,   0.,   0., ...,  16.,   9.,   0.]],\n",
       " \n",
       "        ..., \n",
       "        [[  0.,   0.,   1., ...,   1.,   0.,   0.],\n",
       "         [  0.,   0.,  13., ...,   2.,   1.,   0.],\n",
       "         [  0.,   0.,  16., ...,  16.,   5.,   0.],\n",
       "         ..., \n",
       "         [  0.,   0.,  16., ...,  15.,   0.,   0.],\n",
       "         [  0.,   0.,  15., ...,  16.,   0.,   0.],\n",
       "         [  0.,   0.,   2., ...,   6.,   0.,   0.]],\n",
       " \n",
       "        [[  0.,   0.,   2., ...,   0.,   0.,   0.],\n",
       "         [  0.,   0.,  14., ...,  15.,   1.,   0.],\n",
       "         [  0.,   4.,  16., ...,  16.,   7.,   0.],\n",
       "         ..., \n",
       "         [  0.,   0.,   0., ...,  16.,   2.,   0.],\n",
       "         [  0.,   0.,   4., ...,  16.,   2.,   0.],\n",
       "         [  0.,   0.,   5., ...,  12.,   0.,   0.]],\n",
       " \n",
       "        [[  0.,   0.,  10., ...,   1.,   0.,   0.],\n",
       "         [  0.,   2.,  16., ...,   1.,   0.,   0.],\n",
       "         [  0.,   0.,  15., ...,  15.,   0.,   0.],\n",
       "         ..., \n",
       "         [  0.,   4.,  16., ...,  16.,   6.,   0.],\n",
       "         [  0.,   8.,  16., ...,  16.,   8.,   0.],\n",
       "         [  0.,   1.,   8., ...,  12.,   1.,   0.]]]),\n",
       " 'target': array([0, 1, 2, ..., 8, 9, 8]),\n",
       " 'target_names': array([0, 1, 2, 3, 4, 5, 6, 7, 8, 9])}"
      ]
     },
     "execution_count": 7,
     "metadata": {},
     "output_type": "execute_result"
    }
   ],
   "source": [
    "digits = datasets.load_digits()\n",
    "digits"
   ]
  },
  {
   "cell_type": "code",
   "execution_count": 3,
   "metadata": {
    "collapsed": false
   },
   "outputs": [
    {
     "name": "stdout",
     "output_type": "stream",
     "text": [
      "0.825823650778\n",
      "0.870877148974\n",
      "0.818600380355\n"
     ]
    }
   ],
   "source": [
    "estimator = naive_bayes.BernoulliNB()\n",
    "\n",
    "print (model_selection.cross_val_score(estimator, digits.data, digits.target).mean())\n",
    "\n",
    "estimator = naive_bayes.MultinomialNB()\n",
    "\n",
    "print (model_selection.cross_val_score(estimator, digits.data, digits.target).mean())\n",
    "\n",
    "estimator = naive_bayes.GaussianNB()\n",
    "\n",
    "print(model_selection.cross_val_score(estimator, digits.data, digits.target).mean())"
   ]
  },
  {
   "cell_type": "code",
   "execution_count": 8,
   "metadata": {
    "collapsed": false
   },
   "outputs": [
    {
     "data": {
      "text/plain": [
       "{'DESCR': 'Breast Cancer Wisconsin (Diagnostic) Database\\n=============================================\\n\\nNotes\\n-----\\nData Set Characteristics:\\n    :Number of Instances: 569\\n\\n    :Number of Attributes: 30 numeric, predictive attributes and the class\\n\\n    :Attribute Information:\\n        - radius (mean of distances from center to points on the perimeter)\\n        - texture (standard deviation of gray-scale values)\\n        - perimeter\\n        - area\\n        - smoothness (local variation in radius lengths)\\n        - compactness (perimeter^2 / area - 1.0)\\n        - concavity (severity of concave portions of the contour)\\n        - concave points (number of concave portions of the contour)\\n        - symmetry \\n        - fractal dimension (\"coastline approximation\" - 1)\\n\\n        The mean, standard error, and \"worst\" or largest (mean of the three\\n        largest values) of these features were computed for each image,\\n        resulting in 30 features.  For instance, field 3 is Mean Radius, field\\n        13 is Radius SE, field 23 is Worst Radius.\\n\\n        - class:\\n                - WDBC-Malignant\\n                - WDBC-Benign\\n\\n    :Summary Statistics:\\n\\n    ===================================== ====== ======\\n                                           Min    Max\\n    ===================================== ====== ======\\n    radius (mean):                        6.981  28.11\\n    texture (mean):                       9.71   39.28\\n    perimeter (mean):                     43.79  188.5\\n    area (mean):                          143.5  2501.0\\n    smoothness (mean):                    0.053  0.163\\n    compactness (mean):                   0.019  0.345\\n    concavity (mean):                     0.0    0.427\\n    concave points (mean):                0.0    0.201\\n    symmetry (mean):                      0.106  0.304\\n    fractal dimension (mean):             0.05   0.097\\n    radius (standard error):              0.112  2.873\\n    texture (standard error):             0.36   4.885\\n    perimeter (standard error):           0.757  21.98\\n    area (standard error):                6.802  542.2\\n    smoothness (standard error):          0.002  0.031\\n    compactness (standard error):         0.002  0.135\\n    concavity (standard error):           0.0    0.396\\n    concave points (standard error):      0.0    0.053\\n    symmetry (standard error):            0.008  0.079\\n    fractal dimension (standard error):   0.001  0.03\\n    radius (worst):                       7.93   36.04\\n    texture (worst):                      12.02  49.54\\n    perimeter (worst):                    50.41  251.2\\n    area (worst):                         185.2  4254.0\\n    smoothness (worst):                   0.071  0.223\\n    compactness (worst):                  0.027  1.058\\n    concavity (worst):                    0.0    1.252\\n    concave points (worst):               0.0    0.291\\n    symmetry (worst):                     0.156  0.664\\n    fractal dimension (worst):            0.055  0.208\\n    ===================================== ====== ======\\n\\n    :Missing Attribute Values: None\\n\\n    :Class Distribution: 212 - Malignant, 357 - Benign\\n\\n    :Creator:  Dr. William H. Wolberg, W. Nick Street, Olvi L. Mangasarian\\n\\n    :Donor: Nick Street\\n\\n    :Date: November, 1995\\n\\nThis is a copy of UCI ML Breast Cancer Wisconsin (Diagnostic) datasets.\\nhttps://goo.gl/U2Uwz2\\n\\nFeatures are computed from a digitized image of a fine needle\\naspirate (FNA) of a breast mass.  They describe\\ncharacteristics of the cell nuclei present in the image.\\n\\nSeparating plane described above was obtained using\\nMultisurface Method-Tree (MSM-T) [K. P. Bennett, \"Decision Tree\\nConstruction Via Linear Programming.\" Proceedings of the 4th\\nMidwest Artificial Intelligence and Cognitive Science Society,\\npp. 97-101, 1992], a classification method which uses linear\\nprogramming to construct a decision tree.  Relevant features\\nwere selected using an exhaustive search in the space of 1-4\\nfeatures and 1-3 separating planes.\\n\\nThe actual linear program used to obtain the separating plane\\nin the 3-dimensional space is that described in:\\n[K. P. Bennett and O. L. Mangasarian: \"Robust Linear\\nProgramming Discrimination of Two Linearly Inseparable Sets\",\\nOptimization Methods and Software 1, 1992, 23-34].\\n\\nThis database is also available through the UW CS ftp server:\\n\\nftp ftp.cs.wisc.edu\\ncd math-prog/cpo-dataset/machine-learn/WDBC/\\n\\nReferences\\n----------\\n   - W.N. Street, W.H. Wolberg and O.L. Mangasarian. Nuclear feature extraction \\n     for breast tumor diagnosis. IS&T/SPIE 1993 International Symposium on \\n     Electronic Imaging: Science and Technology, volume 1905, pages 861-870,\\n     San Jose, CA, 1993.\\n   - O.L. Mangasarian, W.N. Street and W.H. Wolberg. Breast cancer diagnosis and \\n     prognosis via linear programming. Operations Research, 43(4), pages 570-577, \\n     July-August 1995.\\n   - W.H. Wolberg, W.N. Street, and O.L. Mangasarian. Machine learning techniques\\n     to diagnose breast cancer from fine-needle aspirates. Cancer Letters 77 (1994) \\n     163-171.\\n',\n",
       " 'data': array([[  1.79900000e+01,   1.03800000e+01,   1.22800000e+02, ...,\n",
       "           2.65400000e-01,   4.60100000e-01,   1.18900000e-01],\n",
       "        [  2.05700000e+01,   1.77700000e+01,   1.32900000e+02, ...,\n",
       "           1.86000000e-01,   2.75000000e-01,   8.90200000e-02],\n",
       "        [  1.96900000e+01,   2.12500000e+01,   1.30000000e+02, ...,\n",
       "           2.43000000e-01,   3.61300000e-01,   8.75800000e-02],\n",
       "        ..., \n",
       "        [  1.66000000e+01,   2.80800000e+01,   1.08300000e+02, ...,\n",
       "           1.41800000e-01,   2.21800000e-01,   7.82000000e-02],\n",
       "        [  2.06000000e+01,   2.93300000e+01,   1.40100000e+02, ...,\n",
       "           2.65000000e-01,   4.08700000e-01,   1.24000000e-01],\n",
       "        [  7.76000000e+00,   2.45400000e+01,   4.79200000e+01, ...,\n",
       "           0.00000000e+00,   2.87100000e-01,   7.03900000e-02]]),\n",
       " 'feature_names': array(['mean radius', 'mean texture', 'mean perimeter', 'mean area',\n",
       "        'mean smoothness', 'mean compactness', 'mean concavity',\n",
       "        'mean concave points', 'mean symmetry', 'mean fractal dimension',\n",
       "        'radius error', 'texture error', 'perimeter error', 'area error',\n",
       "        'smoothness error', 'compactness error', 'concavity error',\n",
       "        'concave points error', 'symmetry error', 'fractal dimension error',\n",
       "        'worst radius', 'worst texture', 'worst perimeter', 'worst area',\n",
       "        'worst smoothness', 'worst compactness', 'worst concavity',\n",
       "        'worst concave points', 'worst symmetry', 'worst fractal dimension'], \n",
       "       dtype='<U23'),\n",
       " 'target': array([0, 0, 0, 0, 0, 0, 0, 0, 0, 0, 0, 0, 0, 0, 0, 0, 0, 0, 0, 1, 1, 1, 0,\n",
       "        0, 0, 0, 0, 0, 0, 0, 0, 0, 0, 0, 0, 0, 0, 1, 0, 0, 0, 0, 0, 0, 0, 0,\n",
       "        1, 0, 1, 1, 1, 1, 1, 0, 0, 1, 0, 0, 1, 1, 1, 1, 0, 1, 0, 0, 1, 1, 1,\n",
       "        1, 0, 1, 0, 0, 1, 0, 1, 0, 0, 1, 1, 1, 0, 0, 1, 0, 0, 0, 1, 1, 1, 0,\n",
       "        1, 1, 0, 0, 1, 1, 1, 0, 0, 1, 1, 1, 1, 0, 1, 1, 0, 1, 1, 1, 1, 1, 1,\n",
       "        1, 1, 0, 0, 0, 1, 0, 0, 1, 1, 1, 0, 0, 1, 0, 1, 0, 0, 1, 0, 0, 1, 1,\n",
       "        0, 1, 1, 0, 1, 1, 1, 1, 0, 1, 1, 1, 1, 1, 1, 1, 1, 1, 0, 1, 1, 1, 1,\n",
       "        0, 0, 1, 0, 1, 1, 0, 0, 1, 1, 0, 0, 1, 1, 1, 1, 0, 1, 1, 0, 0, 0, 1,\n",
       "        0, 1, 0, 1, 1, 1, 0, 1, 1, 0, 0, 1, 0, 0, 0, 0, 1, 0, 0, 0, 1, 0, 1,\n",
       "        0, 1, 1, 0, 1, 0, 0, 0, 0, 1, 1, 0, 0, 1, 1, 1, 0, 1, 1, 1, 1, 1, 0,\n",
       "        0, 1, 1, 0, 1, 1, 0, 0, 1, 0, 1, 1, 1, 1, 0, 1, 1, 1, 1, 1, 0, 1, 0,\n",
       "        0, 0, 0, 0, 0, 0, 0, 0, 0, 0, 0, 0, 0, 1, 1, 1, 1, 1, 1, 0, 1, 0, 1,\n",
       "        1, 0, 1, 1, 0, 1, 0, 0, 1, 1, 1, 1, 1, 1, 1, 1, 1, 1, 1, 1, 1, 0, 1,\n",
       "        1, 0, 1, 0, 1, 1, 1, 1, 1, 1, 1, 1, 1, 1, 1, 1, 1, 1, 0, 1, 1, 1, 0,\n",
       "        1, 0, 1, 1, 1, 1, 0, 0, 0, 1, 1, 1, 1, 0, 1, 0, 1, 0, 1, 1, 1, 0, 1,\n",
       "        1, 1, 1, 1, 1, 1, 0, 0, 0, 1, 1, 1, 1, 1, 1, 1, 1, 1, 1, 1, 0, 0, 1,\n",
       "        0, 0, 0, 1, 0, 0, 1, 1, 1, 1, 1, 0, 1, 1, 1, 1, 1, 0, 1, 1, 1, 0, 1,\n",
       "        1, 0, 0, 1, 1, 1, 1, 1, 1, 0, 1, 1, 1, 1, 1, 1, 1, 0, 1, 1, 1, 1, 1,\n",
       "        0, 1, 1, 0, 1, 1, 1, 1, 1, 1, 1, 1, 1, 1, 1, 1, 0, 1, 0, 0, 1, 0, 1,\n",
       "        1, 1, 1, 1, 0, 1, 1, 0, 1, 0, 1, 1, 0, 1, 0, 1, 1, 1, 1, 1, 1, 1, 1,\n",
       "        0, 0, 1, 1, 1, 1, 1, 1, 0, 1, 1, 1, 1, 1, 1, 1, 1, 1, 1, 0, 1, 1, 1,\n",
       "        1, 1, 1, 1, 0, 1, 0, 1, 1, 0, 1, 1, 1, 1, 1, 0, 0, 1, 0, 1, 0, 1, 1,\n",
       "        1, 1, 1, 0, 1, 1, 0, 1, 0, 1, 0, 0, 1, 1, 1, 0, 1, 1, 1, 1, 1, 1, 1,\n",
       "        1, 1, 1, 1, 0, 1, 0, 0, 1, 1, 1, 1, 1, 1, 1, 1, 1, 1, 1, 1, 1, 1, 1,\n",
       "        1, 1, 1, 1, 1, 1, 1, 1, 1, 1, 0, 0, 0, 0, 0, 0, 1]),\n",
       " 'target_names': array(['malignant', 'benign'], \n",
       "       dtype='<U9')}"
      ]
     },
     "execution_count": 8,
     "metadata": {},
     "output_type": "execute_result"
    }
   ],
   "source": [
    "breast_cancer = datasets.load_breast_cancer()\n",
    "breast_cancer"
   ]
  },
  {
   "cell_type": "code",
   "execution_count": 5,
   "metadata": {
    "collapsed": false
   },
   "outputs": [
    {
     "name": "stdout",
     "output_type": "stream",
     "text": [
      "0.627420402859\n",
      "0.894579040193\n",
      "0.936749280609\n"
     ]
    }
   ],
   "source": [
    "estimator = naive_bayes.BernoulliNB()\n",
    "\n",
    "print (model_selection.cross_val_score(estimator, breast_cancer.data, breast_cancer.target).mean())\n",
    "\n",
    "estimator = naive_bayes.MultinomialNB()\n",
    "\n",
    "print (model_selection.cross_val_score(estimator, breast_cancer.data, breast_cancer.target).mean())\n",
    "\n",
    "estimator = naive_bayes.GaussianNB()\n",
    "\n",
    "print(model_selection.cross_val_score(estimator, breast_cancer.data, breast_cancer.target).mean())"
   ]
  },
  {
   "cell_type": "markdown",
   "metadata": {},
   "source": [
    "Максимальное качество классификации на breast_cancer равно 0.93, на digits -- 0.87."
   ]
  },
  {
   "cell_type": "markdown",
   "metadata": {},
   "source": [
    "Вещественные признаки -- из второго набора. Здесь лучше всего сработал Гауссовский НБ.\n",
    "\n",
    "Целые неотрицательные -- из первого набора. Здесь чемпион -- мультиномиальный НБ.\n",
    "\n",
    "Таким образом, ответы на вопросы: нет нет да да."
   ]
  }
 ],
 "metadata": {
  "kernelspec": {
   "display_name": "Python [Root]",
   "language": "python",
   "name": "Python [Root]"
  },
  "language_info": {
   "codemirror_mode": {
    "name": "ipython",
    "version": 3
   },
   "file_extension": ".py",
   "mimetype": "text/x-python",
   "name": "python",
   "nbconvert_exporter": "python",
   "pygments_lexer": "ipython3",
   "version": "3.5.2"
  }
 },
 "nbformat": 4,
 "nbformat_minor": 0
}
